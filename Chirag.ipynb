{
 "cells": [
  {
   "cell_type": "code",
   "execution_count": 6,
   "metadata": {},
   "outputs": [],
   "source": [
    "\n"
   ]
  },
  {
   "cell_type": "code",
   "execution_count": 14,
   "metadata": {},
   "outputs": [
    {
     "name": "stdout",
     "output_type": "stream",
     "text": [
      " * Serving Flask app \"__main__\" (lazy loading)\n",
      " * Environment: production\n",
      "   WARNING: Do not use the development server in a production environment.\n",
      "   Use a production WSGI server instead.\n",
      " * Debug mode: off\n"
     ]
    },
    {
     "name": "stderr",
     "output_type": "stream",
     "text": [
      " * Running on http://localhost:8088/ (Press CTRL+C to quit)\n",
      "127.0.0.1 - - [03/Sep/2019 11:08:34] \"\u001b[33mGET / HTTP/1.1\u001b[0m\" 404 -\n",
      "127.0.0.1 - - [03/Sep/2019 11:08:38] \"\u001b[37mGET /login HTTP/1.1\u001b[0m\" 200 -\n",
      "127.0.0.1 - - [03/Sep/2019 11:08:38] \"\u001b[33mGET /static/bootstrap.min.css HTTP/1.1\u001b[0m\" 404 -\n",
      "127.0.0.1 - - [03/Sep/2019 11:08:44] \"\u001b[37mPOST /login HTTP/1.1\u001b[0m\" 200 -\n",
      "127.0.0.1 - - [03/Sep/2019 11:08:44] \"\u001b[33mGET /static/bootstrap.min.css HTTP/1.1\u001b[0m\" 404 -\n",
      "127.0.0.1 - - [03/Sep/2019 11:08:49] \"\u001b[37mPOST /login HTTP/1.1\u001b[0m\" 200 -\n",
      "127.0.0.1 - - [03/Sep/2019 11:08:49] \"\u001b[33mGET /static/bootstrap.min.css HTTP/1.1\u001b[0m\" 404 -\n",
      "127.0.0.1 - - [03/Sep/2019 11:08:57] \"\u001b[33mGET / HTTP/1.1\u001b[0m\" 404 -\n",
      "127.0.0.1 - - [03/Sep/2019 11:09:01] \"\u001b[37mGET /reg HTTP/1.1\u001b[0m\" 200 -\n",
      "127.0.0.1 - - [03/Sep/2019 11:09:01] \"\u001b[33mGET /static/bootstrap.min.css HTTP/1.1\u001b[0m\" 404 -\n"
     ]
    }
   ],
   "source": [
    "from flask import Flask, render_template, redirect, url_for, request,session\n",
    "import mysql.connector\n",
    "\n",
    "cnx = mysql.connector.connect(user='lokin', password='root',\n",
    "                              host='localhost',port=\"6800\",database=\"twitter\")\n",
    "app = Flask(__name__)\n",
    "app.secret_key = \"test\"\n",
    "@app.route('/login', methods=['GET', 'POST'])\n",
    "def login():\n",
    "    error = None\n",
    "    if request.method == 'POST':\n",
    "        username=request.form['username'] \n",
    "        password=request.form['password']\n",
    "        mycursor = cnx.cursor()\n",
    "        username=request.form['username'] \n",
    "        password=request.form['password']\n",
    "        sql=\"SELECT * FROM users WHERE username = %s AND password = %s \"\n",
    "        mycursor.execute(sql,(username,password))\n",
    "        data=mycursor.fetchone()\n",
    "        if(data is not None):\n",
    "            error = 'Success Loggedin'\n",
    "            session['user']=\"username\"\n",
    "        else:\n",
    "            error=\"Wrong username or password\"\n",
    "    return render_template('login.html', error=error)\n",
    "@app.route('/reg', methods=['GET', 'POST'])\n",
    "def register():\n",
    "    error = None\n",
    "    if request.method == 'POST':\n",
    "        mycursor = cnx.cursor()\n",
    "        username=request.form['username'] \n",
    "        password=request.form['password']\n",
    "        sql=\"SELECT * FROM users WHERE username = %s \"\n",
    "        mycursor.execute(sql,(username,))\n",
    "        data=mycursor.fetchone()\n",
    "        \n",
    "        if(data is not None):\n",
    "            error=\"User Already Exists\"\n",
    "            return render_template('reg.html', error=error)\n",
    "        else:\n",
    "            error=\"Sucess\"\n",
    "            sql = \"INSERT INTO users (username, password) VALUES (%s, %s)\"\n",
    "            val = (username, password)\n",
    "            mycursor.execute(sql, val)\n",
    "            cnx.commit()\n",
    "            print(mycursor.rowcount, \"record inserted.\")       \n",
    "    return render_template('reg.html', error=error)\n",
    "\n",
    "if __name__ == '__main__':\n",
    "    app.run(host=\"localhost\",port=\"8088\")"
   ]
  },
  {
   "cell_type": "code",
   "execution_count": 8,
   "metadata": {},
   "outputs": [],
   "source": [
    "import mysql.connector\n",
    "\n",
    "cnx = mysql.connector.connect(user='lokin', password='root',\n",
    "                              host='localhost',port=\"6800\",database=\"twitter\")\n",
    "mycursor = cnx.cursor()\n",
    "\n",
    "sql=\"SELECT * FROM users WHERE username = %s AND password= %s\"\n",
    "username='lokin'\n",
    "password=\"sethia\"\n",
    "mycursor.execute(sql,(username,password))\n",
    "data=mycursor.fetchone()"
   ]
  },
  {
   "cell_type": "code",
   "execution_count": 9,
   "metadata": {},
   "outputs": [
    {
     "name": "stdout",
     "output_type": "stream",
     "text": [
      "bad\n"
     ]
    }
   ],
   "source": [
    "if(data is None):\n",
    "    print(\"nice\")\n",
    "else:\n",
    "    print(\"bad\")"
   ]
  },
  {
   "cell_type": "code",
   "execution_count": 10,
   "metadata": {},
   "outputs": [
    {
     "data": {
      "text/plain": [
       "tuple"
      ]
     },
     "execution_count": 10,
     "metadata": {},
     "output_type": "execute_result"
    }
   ],
   "source": [
    "p=type(data)\n",
    "p"
   ]
  },
  {
   "cell_type": "code",
   "execution_count": 6,
   "metadata": {},
   "outputs": [],
   "source": [
    "data"
   ]
  },
  {
   "cell_type": "code",
   "execution_count": null,
   "metadata": {},
   "outputs": [],
   "source": []
  }
 ],
 "metadata": {
  "kernelspec": {
   "display_name": "Python 3",
   "language": "python",
   "name": "python3"
  },
  "language_info": {
   "codemirror_mode": {
    "name": "ipython",
    "version": 3
   },
   "file_extension": ".py",
   "mimetype": "text/x-python",
   "name": "python",
   "nbconvert_exporter": "python",
   "pygments_lexer": "ipython3",
   "version": "3.7.3"
  }
 },
 "nbformat": 4,
 "nbformat_minor": 2
}
